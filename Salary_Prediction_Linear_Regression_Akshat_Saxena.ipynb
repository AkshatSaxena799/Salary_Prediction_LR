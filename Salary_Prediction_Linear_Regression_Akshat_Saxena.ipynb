{
 "cells": [
  {
   "cell_type": "markdown",
   "id": "7182ab71",
   "metadata": {},
   "source": [
    "# <center>Salary Prediction</center>"
   ]
  },
  {
   "cell_type": "markdown",
   "id": "db534eb2",
   "metadata": {},
   "source": [
    "### <div style=\"text-align: right\"> ~ Akshat Saxena </div>"
   ]
  },
  {
   "cell_type": "markdown",
   "id": "b6a1231e",
   "metadata": {},
   "source": [
    "<b>Problem on Hand: </b> Given a data set which  captures gross salary from July 1, 2013 through June 30, 2014 and includes only those employees who were employed on June 30, 2014. Predict the Salaries for Employees in Baltimore</b>"
   ]
  },
  {
   "cell_type": "markdown",
   "id": "17f92d07",
   "metadata": {},
   "source": [
    "#### Importing Libraries"
   ]
  },
  {
   "cell_type": "code",
   "execution_count": 1,
   "id": "5bd162f0",
   "metadata": {},
   "outputs": [],
   "source": [
    "import numpy as np\n",
    "import pandas as pd\n",
    "import matplotlib.pyplot as plt\n",
    "import seaborn as sns\n",
    "from sklearn.model_selection import train_test_split\n",
    "from sklearn.preprocessing import StandardScaler\n",
    "from sklearn.linear_model import LinearRegression\n",
    "import warnings\n",
    "warnings.filterwarnings('ignore')"
   ]
  },
  {
   "cell_type": "markdown",
   "id": "3dc7b3a5",
   "metadata": {},
   "source": [
    "#### Importing the data set"
   ]
  },
  {
   "cell_type": "code",
   "execution_count": 2,
   "id": "762a8830",
   "metadata": {},
   "outputs": [
    {
     "data": {
      "text/html": [
       "<div>\n",
       "<style scoped>\n",
       "    .dataframe tbody tr th:only-of-type {\n",
       "        vertical-align: middle;\n",
       "    }\n",
       "\n",
       "    .dataframe tbody tr th {\n",
       "        vertical-align: top;\n",
       "    }\n",
       "\n",
       "    .dataframe thead th {\n",
       "        text-align: right;\n",
       "    }\n",
       "</style>\n",
       "<table border=\"1\" class=\"dataframe\">\n",
       "  <thead>\n",
       "    <tr style=\"text-align: right;\">\n",
       "      <th></th>\n",
       "      <th>Name</th>\n",
       "      <th>JobTitle</th>\n",
       "      <th>AgencyID</th>\n",
       "      <th>Agency</th>\n",
       "      <th>HireDate</th>\n",
       "      <th>AnnualSalary</th>\n",
       "      <th>GrossPay</th>\n",
       "    </tr>\n",
       "  </thead>\n",
       "  <tbody>\n",
       "    <tr>\n",
       "      <th>0</th>\n",
       "      <td>Aaron,Keontae E</td>\n",
       "      <td>AIDE BLUE CHIP</td>\n",
       "      <td>W02200</td>\n",
       "      <td>Youth Summer</td>\n",
       "      <td>06/10/2013</td>\n",
       "      <td>$11310.00</td>\n",
       "      <td>$873.63</td>\n",
       "    </tr>\n",
       "    <tr>\n",
       "      <th>1</th>\n",
       "      <td>Aaron,Patricia G</td>\n",
       "      <td>Facilities/Office Services II</td>\n",
       "      <td>A03031</td>\n",
       "      <td>OED-Employment Dev</td>\n",
       "      <td>10/24/1979</td>\n",
       "      <td>$53428.00</td>\n",
       "      <td>$52868.38</td>\n",
       "    </tr>\n",
       "    <tr>\n",
       "      <th>2</th>\n",
       "      <td>Aaron,Petra L</td>\n",
       "      <td>ASSISTANT STATE'S ATTORNEY</td>\n",
       "      <td>A29005</td>\n",
       "      <td>States Attorneys Office</td>\n",
       "      <td>09/25/2006</td>\n",
       "      <td>$68300.00</td>\n",
       "      <td>$67439.19</td>\n",
       "    </tr>\n",
       "    <tr>\n",
       "      <th>3</th>\n",
       "      <td>Abaineh,Yohannes T</td>\n",
       "      <td>EPIDEMIOLOGIST</td>\n",
       "      <td>A65026</td>\n",
       "      <td>HLTH-Health Department</td>\n",
       "      <td>07/23/2009</td>\n",
       "      <td>$62000.00</td>\n",
       "      <td>$58654.74</td>\n",
       "    </tr>\n",
       "    <tr>\n",
       "      <th>4</th>\n",
       "      <td>Abbene,Anthony M</td>\n",
       "      <td>POLICE OFFICER TRAINEE</td>\n",
       "      <td>A99416</td>\n",
       "      <td>Police Department</td>\n",
       "      <td>07/24/2013</td>\n",
       "      <td>$43999.00</td>\n",
       "      <td>$39686.95</td>\n",
       "    </tr>\n",
       "  </tbody>\n",
       "</table>\n",
       "</div>"
      ],
      "text/plain": [
       "                 Name                       JobTitle AgencyID  \\\n",
       "0     Aaron,Keontae E                 AIDE BLUE CHIP   W02200   \n",
       "1    Aaron,Patricia G  Facilities/Office Services II   A03031   \n",
       "2       Aaron,Petra L     ASSISTANT STATE'S ATTORNEY   A29005   \n",
       "3  Abaineh,Yohannes T                 EPIDEMIOLOGIST   A65026   \n",
       "4    Abbene,Anthony M         POLICE OFFICER TRAINEE   A99416   \n",
       "\n",
       "                     Agency    HireDate AnnualSalary   GrossPay  \n",
       "0            Youth Summer    06/10/2013    $11310.00    $873.63  \n",
       "1       OED-Employment Dev   10/24/1979    $53428.00  $52868.38  \n",
       "2  States Attorneys Office   09/25/2006    $68300.00  $67439.19  \n",
       "3   HLTH-Health Department   07/23/2009    $62000.00  $58654.74  \n",
       "4        Police Department   07/24/2013    $43999.00  $39686.95  "
      ]
     },
     "execution_count": 2,
     "metadata": {},
     "output_type": "execute_result"
    }
   ],
   "source": [
    "salary_org = pd.read_csv(r\"E:\\train.csv\")\n",
    "salary_org.head()"
   ]
  },
  {
   "cell_type": "code",
   "execution_count": 3,
   "id": "dbf3c14e",
   "metadata": {},
   "outputs": [
    {
     "data": {
      "text/html": [
       "<div>\n",
       "<style scoped>\n",
       "    .dataframe tbody tr th:only-of-type {\n",
       "        vertical-align: middle;\n",
       "    }\n",
       "\n",
       "    .dataframe tbody tr th {\n",
       "        vertical-align: top;\n",
       "    }\n",
       "\n",
       "    .dataframe thead th {\n",
       "        text-align: right;\n",
       "    }\n",
       "</style>\n",
       "<table border=\"1\" class=\"dataframe\">\n",
       "  <thead>\n",
       "    <tr style=\"text-align: right;\">\n",
       "      <th></th>\n",
       "      <th>Name</th>\n",
       "      <th>JobTitle</th>\n",
       "      <th>AgencyID</th>\n",
       "      <th>Agency</th>\n",
       "      <th>HireDate</th>\n",
       "      <th>AnnualSalary</th>\n",
       "      <th>GrossPay</th>\n",
       "    </tr>\n",
       "  </thead>\n",
       "  <tbody>\n",
       "    <tr>\n",
       "      <th>18976</th>\n",
       "      <td>Zotamou,Jean Marie D</td>\n",
       "      <td>AIDE BLUE CHIP</td>\n",
       "      <td>W02235</td>\n",
       "      <td>Youth Summer</td>\n",
       "      <td>05/21/2014</td>\n",
       "      <td>$11310.00</td>\n",
       "      <td>NaN</td>\n",
       "    </tr>\n",
       "    <tr>\n",
       "      <th>18977</th>\n",
       "      <td>Zotamou,Pivot D</td>\n",
       "      <td>AIDE BLUE CHIP</td>\n",
       "      <td>W02629</td>\n",
       "      <td>Youth Summer</td>\n",
       "      <td>05/21/2014</td>\n",
       "      <td>$11310.00</td>\n",
       "      <td>NaN</td>\n",
       "    </tr>\n",
       "    <tr>\n",
       "      <th>18978</th>\n",
       "      <td>Zovistoski,Zachary D</td>\n",
       "      <td>POLICE OFFICER TRAINEE</td>\n",
       "      <td>A99416</td>\n",
       "      <td>Police Department</td>\n",
       "      <td>12/17/2013</td>\n",
       "      <td>$43999.00</td>\n",
       "      <td>$21070.03</td>\n",
       "    </tr>\n",
       "    <tr>\n",
       "      <th>18979</th>\n",
       "      <td>Zubyk,Stanislav T</td>\n",
       "      <td>POLICE OFFICER</td>\n",
       "      <td>A99262</td>\n",
       "      <td>Police Department</td>\n",
       "      <td>01/23/2013</td>\n",
       "      <td>$44104.00</td>\n",
       "      <td>$48608.12</td>\n",
       "    </tr>\n",
       "    <tr>\n",
       "      <th>18980</th>\n",
       "      <td>Zukowski,Charles J</td>\n",
       "      <td>Waste Water Tech Supv I Pump</td>\n",
       "      <td>A50206</td>\n",
       "      <td>DPW-Water &amp; Waste Water</td>\n",
       "      <td>10/15/1979</td>\n",
       "      <td>$53568.00</td>\n",
       "      <td>$52164.32</td>\n",
       "    </tr>\n",
       "  </tbody>\n",
       "</table>\n",
       "</div>"
      ],
      "text/plain": [
       "                       Name                      JobTitle AgencyID  \\\n",
       "18976  Zotamou,Jean Marie D                AIDE BLUE CHIP   W02235   \n",
       "18977       Zotamou,Pivot D                AIDE BLUE CHIP   W02629   \n",
       "18978  Zovistoski,Zachary D        POLICE OFFICER TRAINEE   A99416   \n",
       "18979     Zubyk,Stanislav T                POLICE OFFICER   A99262   \n",
       "18980    Zukowski,Charles J  Waste Water Tech Supv I Pump   A50206   \n",
       "\n",
       "                         Agency    HireDate AnnualSalary   GrossPay  \n",
       "18976            Youth Summer    05/21/2014    $11310.00        NaN  \n",
       "18977             Youth Summer   05/21/2014    $11310.00        NaN  \n",
       "18978        Police Department   12/17/2013    $43999.00  $21070.03  \n",
       "18979        Police Department   01/23/2013    $44104.00  $48608.12  \n",
       "18980  DPW-Water & Waste Water   10/15/1979    $53568.00  $52164.32  "
      ]
     },
     "execution_count": 3,
     "metadata": {},
     "output_type": "execute_result"
    }
   ],
   "source": [
    "salary_org.tail()"
   ]
  },
  {
   "cell_type": "markdown",
   "id": "1fe778f8",
   "metadata": {},
   "source": [
    "### Data Cleaning and Preparation"
   ]
  },
  {
   "cell_type": "code",
   "execution_count": 4,
   "id": "0e3020aa",
   "metadata": {},
   "outputs": [
    {
     "name": "stdout",
     "output_type": "stream",
     "text": [
      "<class 'pandas.core.frame.DataFrame'>\n",
      "RangeIndex: 18981 entries, 0 to 18980\n",
      "Data columns (total 7 columns):\n",
      " #   Column        Non-Null Count  Dtype \n",
      "---  ------        --------------  ----- \n",
      " 0    Name         18981 non-null  object\n",
      " 1   JobTitle      18981 non-null  object\n",
      " 2   AgencyID      18981 non-null  object\n",
      " 3   Agency        18981 non-null  object\n",
      " 4   HireDate      18911 non-null  object\n",
      " 5   AnnualSalary  18981 non-null  object\n",
      " 6   GrossPay      15758 non-null  object\n",
      "dtypes: object(7)\n",
      "memory usage: 1.0+ MB\n"
     ]
    }
   ],
   "source": [
    "salary_org.info()"
   ]
  },
  {
   "cell_type": "markdown",
   "id": "83567249",
   "metadata": {},
   "source": [
    ">- There are 18981 rows in the data set\n",
    ">- There are 7 columns in the data set provided\n",
    ">- All the columns are of type Object."
   ]
  },
  {
   "cell_type": "code",
   "execution_count": 5,
   "id": "29cc807b",
   "metadata": {},
   "outputs": [],
   "source": [
    "salary_cpy = salary_org.copy()"
   ]
  },
  {
   "cell_type": "code",
   "execution_count": 6,
   "id": "c2f18bf7",
   "metadata": {},
   "outputs": [
    {
     "data": {
      "text/plain": [
       "Index([' Name', 'JobTitle', 'AgencyID', 'Agency', 'HireDate', 'AnnualSalary',\n",
       "       'GrossPay'],\n",
       "      dtype='object')"
      ]
     },
     "execution_count": 6,
     "metadata": {},
     "output_type": "execute_result"
    }
   ],
   "source": [
    "salary_cpy.columns"
   ]
  },
  {
   "cell_type": "code",
   "execution_count": 7,
   "id": "fc8e8a81",
   "metadata": {},
   "outputs": [
    {
     "name": "stdout",
     "output_type": "stream",
     "text": [
      "After Removing leading and trailing spaces  Index(['Name', 'JobTitle', 'AgencyID', 'Agency', 'HireDate', 'AnnualSalary',\n",
      "       'GrossPay'],\n",
      "      dtype='object')\n"
     ]
    }
   ],
   "source": [
    "salary_cpy.columns = salary_cpy.columns.str.strip() #removing gaps\n",
    "print(\"After Removing leading and trailing spaces \",  salary_cpy.columns)"
   ]
  },
  {
   "cell_type": "code",
   "execution_count": 8,
   "id": "de9f4841",
   "metadata": {},
   "outputs": [
    {
     "data": {
      "text/plain": [
       "Name               0\n",
       "JobTitle           0\n",
       "AgencyID           0\n",
       "Agency             0\n",
       "HireDate          70\n",
       "AnnualSalary       0\n",
       "GrossPay        3223\n",
       "dtype: int64"
      ]
     },
     "execution_count": 8,
     "metadata": {},
     "output_type": "execute_result"
    }
   ],
   "source": [
    "salary_cpy.isnull().sum()"
   ]
  },
  {
   "cell_type": "markdown",
   "id": "abfd4baa",
   "metadata": {},
   "source": [
    "- There are null values in HireDate and GrossPay Columns.\n",
    "- There are 70 null values in HireDate which is less than 1% of values so dropping those rows."
   ]
  },
  {
   "cell_type": "code",
   "execution_count": 9,
   "id": "e2034940",
   "metadata": {},
   "outputs": [
    {
     "data": {
      "text/plain": [
       "Name               0\n",
       "JobTitle           0\n",
       "AgencyID           0\n",
       "Agency             0\n",
       "HireDate           0\n",
       "AnnualSalary       0\n",
       "GrossPay        3223\n",
       "dtype: int64"
      ]
     },
     "execution_count": 9,
     "metadata": {},
     "output_type": "execute_result"
    }
   ],
   "source": [
    "salary_cpy = salary_cpy.dropna(subset=['HireDate'])\n",
    "salary_cpy.isnull().sum()"
   ]
  },
  {
   "cell_type": "markdown",
   "id": "904445ba",
   "metadata": {},
   "source": [
    "- Gross Pay is dependent on Annual salary. So these two are interrelated and only one of this can be used as dependent variable. As we have null values in GrossPay so I am dropping that column."
   ]
  },
  {
   "cell_type": "code",
   "execution_count": 10,
   "id": "c02211ee",
   "metadata": {},
   "outputs": [],
   "source": [
    "salary_cpy = salary_cpy.drop('GrossPay', axis = 1)"
   ]
  },
  {
   "cell_type": "code",
   "execution_count": 11,
   "id": "a741d994",
   "metadata": {},
   "outputs": [
    {
     "data": {
      "text/plain": [
       "Name            0\n",
       "JobTitle        0\n",
       "AgencyID        0\n",
       "Agency          0\n",
       "HireDate        0\n",
       "AnnualSalary    0\n",
       "dtype: int64"
      ]
     },
     "execution_count": 11,
     "metadata": {},
     "output_type": "execute_result"
    }
   ],
   "source": [
    "salary_cpy.isnull().sum()"
   ]
  },
  {
   "cell_type": "code",
   "execution_count": 12,
   "id": "f86e4263",
   "metadata": {},
   "outputs": [
    {
     "data": {
      "text/plain": [
       "P04001    316\n",
       "C90786    276\n",
       "W02629    193\n",
       "P04002    191\n",
       "A99416    166\n",
       "         ... \n",
       "W02339      1\n",
       "W02584      1\n",
       "W02658      1\n",
       "A65MIL      1\n",
       "W02672      1\n",
       "Name: AgencyID, Length: 1177, dtype: int64"
      ]
     },
     "execution_count": 12,
     "metadata": {},
     "output_type": "execute_result"
    }
   ],
   "source": [
    "#Now I will check value counts for all columns\n",
    "salary_cpy.AgencyID.value_counts()"
   ]
  },
  {
   "cell_type": "markdown",
   "id": "b8345251",
   "metadata": {},
   "source": [
    "- There are 1177 agencies in Blatimore. AgencyID represents an Agency, so we should have same number of Agencies as well. So I will verify this logic."
   ]
  },
  {
   "cell_type": "code",
   "execution_count": 13,
   "id": "c71b159a",
   "metadata": {},
   "outputs": [
    {
     "data": {
      "text/plain": [
       "Youth Summer                4323\n",
       "Police Department           3141\n",
       "Fire Department             1576\n",
       "DPW-Water & Waste Water     1491\n",
       "HLTH-Health Department       833\n",
       "                            ... \n",
       "Council Services               6\n",
       "M-R Labor Commissioner         6\n",
       "Legislative Reference          5\n",
       "M-R Cable & Comm               4\n",
       "Special City Services          4\n",
       "Name: Agency, Length: 65, dtype: int64"
      ]
     },
     "execution_count": 13,
     "metadata": {},
     "output_type": "execute_result"
    }
   ],
   "source": [
    "salary_cpy.Agency.value_counts()"
   ]
  },
  {
   "cell_type": "markdown",
   "id": "51d78346",
   "metadata": {},
   "source": [
    "- Against my expectations, A single Agency seems to have different Agency ID's which might be given based on Job Role and Agency. So I will verify it."
   ]
  },
  {
   "cell_type": "code",
   "execution_count": 14,
   "id": "1c3fec30",
   "metadata": {},
   "outputs": [
    {
     "data": {
      "text/plain": [
       "AIDE BLUE CHIP                    4817\n",
       "POLICE OFFICER                    1866\n",
       "LABORER (Hourly)                   597\n",
       "EMT Firefighter Suppression        358\n",
       "CROSSING GUARD                     337\n",
       "                                  ... \n",
       "DATABASE SPECIALIST                  1\n",
       "EDP DATA TECHNICIAN SUPERVISOR       1\n",
       "MEDIA PRODUCER DIRECTOR II           1\n",
       "Fire Captain OEM ALS                 1\n",
       "Library, IT Training Supv            1\n",
       "Name: JobTitle, Length: 1073, dtype: int64"
      ]
     },
     "execution_count": 14,
     "metadata": {},
     "output_type": "execute_result"
    }
   ],
   "source": [
    "salary_cpy.JobTitle.value_counts()"
   ]
  },
  {
   "cell_type": "markdown",
   "id": "6281a05e",
   "metadata": {},
   "source": [
    "- Here I can see that there are 1073 Job title that are available. "
   ]
  },
  {
   "cell_type": "code",
   "execution_count": 15,
   "id": "9dae95a8",
   "metadata": {},
   "outputs": [
    {
     "data": {
      "text/plain": [
       "05/21/2014    1478\n",
       "06/10/2013     696\n",
       "06/12/2012     541\n",
       "06/07/2011     368\n",
       "05/29/2014     347\n",
       "              ... \n",
       "06/15/1997       1\n",
       "06/18/1985       1\n",
       "06/05/1972       1\n",
       "12/05/1995       1\n",
       "06/14/2010       1\n",
       "Name: HireDate, Length: 4737, dtype: int64"
      ]
     },
     "execution_count": 15,
     "metadata": {},
     "output_type": "execute_result"
    }
   ],
   "source": [
    "salary_cpy.HireDate.value_counts()"
   ]
  },
  {
   "cell_type": "markdown",
   "id": "fe4c0e01",
   "metadata": {},
   "source": [
    "- Here I can see that the maximum number of people were selected on 05/21/2014."
   ]
  },
  {
   "cell_type": "code",
   "execution_count": 16,
   "id": "4bcdfc0f",
   "metadata": {},
   "outputs": [
    {
     "data": {
      "text/plain": [
       "$11310.00    4811\n",
       "$20800.00     325\n",
       "$29245.00     196\n",
       "$43999.00     169\n",
       "$44773.00     162\n",
       "             ... \n",
       "$33311.00       1\n",
       "$49187.00       1\n",
       "$25452.00       1\n",
       "$42000.00       1\n",
       "$56800.00       1\n",
       "Name: AnnualSalary, Length: 1590, dtype: int64"
      ]
     },
     "execution_count": 16,
     "metadata": {},
     "output_type": "execute_result"
    }
   ],
   "source": [
    "salary_cpy.AnnualSalary.value_counts()"
   ]
  },
  {
   "cell_type": "markdown",
   "id": "ad55922e",
   "metadata": {},
   "source": [
    "- Annual Salary has a dollar attached to it. So I will remove it and convert it into float format."
   ]
  },
  {
   "cell_type": "code",
   "execution_count": 17,
   "id": "17f1fdee",
   "metadata": {},
   "outputs": [],
   "source": [
    "salary_cpy['AnnualSalary'] = salary_cpy['AnnualSalary'].apply(lambda x : (float)(str(x)[1:]))"
   ]
  },
  {
   "cell_type": "code",
   "execution_count": 18,
   "id": "0de0b23b",
   "metadata": {},
   "outputs": [
    {
     "data": {
      "text/plain": [
       "11310.0    4811\n",
       "20800.0     325\n",
       "29245.0     196\n",
       "43999.0     169\n",
       "44773.0     162\n",
       "           ... \n",
       "26774.0       1\n",
       "81120.0       1\n",
       "44000.0       1\n",
       "58041.0       1\n",
       "83370.0       1\n",
       "Name: AnnualSalary, Length: 1590, dtype: int64"
      ]
     },
     "execution_count": 18,
     "metadata": {},
     "output_type": "execute_result"
    }
   ],
   "source": [
    "salary_cpy.AnnualSalary.value_counts()"
   ]
  },
  {
   "cell_type": "markdown",
   "id": "f72b6356",
   "metadata": {},
   "source": [
    "<b>Now, I will break the date into Day, Month, and Year.</b>"
   ]
  },
  {
   "cell_type": "code",
   "execution_count": 19,
   "id": "f5076753",
   "metadata": {},
   "outputs": [],
   "source": [
    "salary_cpy['HireDay'] = salary_cpy['HireDate'].apply(lambda x : (int)(str(x[3:5])))\n",
    "salary_cpy['HireMonth'] = salary_cpy['HireDate'].apply(lambda x : (int)(str(x[0:2])))\n",
    "salary_cpy['HireYear'] = salary_cpy['HireDate'].apply(lambda x : (int)(str(x[6:])))"
   ]
  },
  {
   "cell_type": "code",
   "execution_count": 20,
   "id": "c2ae4339",
   "metadata": {},
   "outputs": [
    {
     "name": "stdout",
     "output_type": "stream",
     "text": [
      "<class 'pandas.core.frame.DataFrame'>\n",
      "Int64Index: 18911 entries, 0 to 18980\n",
      "Data columns (total 9 columns):\n",
      " #   Column        Non-Null Count  Dtype  \n",
      "---  ------        --------------  -----  \n",
      " 0   Name          18911 non-null  object \n",
      " 1   JobTitle      18911 non-null  object \n",
      " 2   AgencyID      18911 non-null  object \n",
      " 3   Agency        18911 non-null  object \n",
      " 4   HireDate      18911 non-null  object \n",
      " 5   AnnualSalary  18911 non-null  float64\n",
      " 6   HireDay       18911 non-null  int64  \n",
      " 7   HireMonth     18911 non-null  int64  \n",
      " 8   HireYear      18911 non-null  int64  \n",
      "dtypes: float64(1), int64(3), object(5)\n",
      "memory usage: 1.4+ MB\n"
     ]
    }
   ],
   "source": [
    "salary_cpy.info()"
   ]
  },
  {
   "cell_type": "code",
   "execution_count": 21,
   "id": "3114e45c",
   "metadata": {},
   "outputs": [
    {
     "data": {
      "text/plain": [
       "21    1982\n",
       "10    1189\n",
       "12    1017\n",
       "7      862\n",
       "29     784\n",
       "13     744\n",
       "19     680\n",
       "23     636\n",
       "1      621\n",
       "18     603\n",
       "3      595\n",
       "11     568\n",
       "20     565\n",
       "22     529\n",
       "4      512\n",
       "16     506\n",
       "28     505\n",
       "15     505\n",
       "6      488\n",
       "17     469\n",
       "30     465\n",
       "5      464\n",
       "27     448\n",
       "25     443\n",
       "2      432\n",
       "9      431\n",
       "26     421\n",
       "8      418\n",
       "24     417\n",
       "14     366\n",
       "31     246\n",
       "Name: HireDay, dtype: int64"
      ]
     },
     "execution_count": 21,
     "metadata": {},
     "output_type": "execute_result"
    }
   ],
   "source": [
    "salary_cpy.HireDay.value_counts(sort = True)"
   ]
  },
  {
   "cell_type": "code",
   "execution_count": 22,
   "id": "f1342708",
   "metadata": {},
   "outputs": [],
   "source": [
    "#I can see there are spaces, so I will trim these spaces.\n",
    "salary_cpy['JobTitle'] = salary_cpy['JobTitle'].apply(lambda x : str(x).strip().replace(\"  \",\" \"))\n",
    "salary_cpy['AgencyID'] = salary_cpy['AgencyID'].apply(lambda x : str(x).strip().replace(\"  \",\" \"))\n",
    "salary_cpy['Agency'] = salary_cpy['Agency'].apply(lambda x : str(x).strip().replace(\"  \",\" \"))"
   ]
  },
  {
   "cell_type": "markdown",
   "id": "189b156b",
   "metadata": {},
   "source": [
    "- It can also be seen that some of the job titles are in Upper case. With Lower it might effect analysis, So I will convert all of them to uppercase."
   ]
  },
  {
   "cell_type": "code",
   "execution_count": 23,
   "id": "54c38abc",
   "metadata": {},
   "outputs": [],
   "source": [
    "salary_cpy['JobTitle'] = salary_cpy['JobTitle'].apply(lambda x : str(x).upper())\n",
    "salary_cpy['AgencyID'] = salary_cpy['AgencyID'].apply(lambda x : str(x).upper())\n",
    "salary_cpy['Agency'] = salary_cpy['Agency'].apply(lambda x : str(x).upper())"
   ]
  },
  {
   "cell_type": "markdown",
   "id": "44f9cd60",
   "metadata": {},
   "source": [
    "<b>Now, I am creating a Box plot for Annual Salary and check for Outliers</b>"
   ]
  },
  {
   "cell_type": "code",
   "execution_count": 24,
   "id": "f08eccac",
   "metadata": {},
   "outputs": [
    {
     "data": {
      "image/png": "[encoded data removed]",
      "text/plain": [
       "<Figure size 432x288 with 1 Axes>"
      ]
     },
     "metadata": {
      "needs_background": "light"
     },
     "output_type": "display_data"
    }
   ],
   "source": [
    "salary_cpy.AnnualSalary.plot.box()\n",
    "plt.show()"
   ]
  },
  {
   "cell_type": "code",
   "execution_count": 25,
   "id": "1ab76915",
   "metadata": {},
   "outputs": [
    {
     "data": {
      "text/plain": [
       "count     18911.000000\n",
       "mean      39660.421889\n",
       "std       25163.465942\n",
       "min           0.000000\n",
       "25%       11310.000000\n",
       "50%       36203.000000\n",
       "75%       60300.000000\n",
       "max      238772.000000\n",
       "Name: AnnualSalary, dtype: float64"
      ]
     },
     "execution_count": 25,
     "metadata": {},
     "output_type": "execute_result"
    }
   ],
   "source": [
    "salary_cpy.AnnualSalary.describe()"
   ]
  },
  {
   "cell_type": "markdown",
   "id": "5bda7dd3",
   "metadata": {},
   "source": [
    "- With the box plot and Described data I can see that the max value is way more than mean, median.\n",
    "- So I will delete all rows whose annual salary>1500000 according to box plot."
   ]
  },
  {
   "cell_type": "code",
   "execution_count": 26,
   "id": "c360e518",
   "metadata": {},
   "outputs": [],
   "source": [
    "salary_cpy = salary_cpy[salary_cpy['AnnualSalary']<150000]"
   ]
  },
  {
   "cell_type": "code",
   "execution_count": 27,
   "id": "3d2ec945",
   "metadata": {},
   "outputs": [
    {
     "data": {
      "image/png": "[encoded data removed]",
      "text/plain": [
       "<Figure size 432x288 with 1 Axes>"
      ]
     },
     "metadata": {
      "needs_background": "light"
     },
     "output_type": "display_data"
    }
   ],
   "source": [
    "salary_cpy.AnnualSalary.plot.box()\n",
    "plt.show()"
   ]
  },
  {
   "cell_type": "markdown",
   "id": "a49c903c",
   "metadata": {},
   "source": [
    "- All the data points above the 75% line are very close to each other so I will leave it."
   ]
  },
  {
   "cell_type": "markdown",
   "id": "8934b08a",
   "metadata": {},
   "source": [
    "### Exploratory Data Analysis"
   ]
  },
  {
   "cell_type": "code",
   "execution_count": 28,
   "id": "ac1d1910",
   "metadata": {},
   "outputs": [
    {
     "data": {
      "image/png": "[encoded data removed]",
      "text/plain": [
       "<Figure size 432x288 with 1 Axes>"
      ]
     },
     "metadata": {
      "needs_background": "light"
     },
     "output_type": "display_data"
    }
   ],
   "source": [
    "sns.distplot(salary_cpy.AnnualSalary)\n",
    "plt.title(\"Annual Salary Distribution Plot\",fontsize=12)\n",
    "plt.show()"
   ]
  },
  {
   "cell_type": "markdown",
   "id": "a4854702",
   "metadata": {},
   "source": [
    "- The data is distributed very randomly and there seems to be not many people with salary > 100000."
   ]
  },
  {
   "cell_type": "markdown",
   "id": "714b49e1",
   "metadata": {},
   "source": [
    "**Now let us see the Top 10 Hiring Jobs**"
   ]
  },
  {
   "cell_type": "code",
   "execution_count": 29,
   "id": "329a9ad2",
   "metadata": {},
   "outputs": [
    {
     "data": {
      "image/png": "[encoded data removed]",
      "text/plain": [
       "<Figure size 720x360 with 1 Axes>"
      ]
     },
     "metadata": {
      "needs_background": "light"
     },
     "output_type": "display_data"
    },
    {
     "data": {
      "text/plain": [
       "JobTitle\n",
       "AIDE BLUE CHIP                 4817\n",
       "POLICE OFFICER                 1866\n",
       "LABORER (HOURLY)                597\n",
       "CROSSING GUARD                  374\n",
       "EMT FIREFIGHTER SUPPRESSION     358\n",
       "COMMUNITY AIDE                  302\n",
       "RECREATION ARTS INSTRUCTOR      299\n",
       "POLICE OFFICER (EID)            250\n",
       "POLICE SERGEANT                 222\n",
       "MOTOR VEHICLE DRIVER I          189\n",
       "Name: Name, dtype: int64"
      ]
     },
     "execution_count": 29,
     "metadata": {},
     "output_type": "execute_result"
    }
   ],
   "source": [
    "plt.figure(figsize=(10,5))\n",
    "salary_cpy.groupby(['JobTitle'])['Name'].count().sort_values(ascending=False).head(10).plot.bar()\n",
    "plt.ylabel('No of people Working')\n",
    "plt.title(\"Top 10 Jobs for which Hiring is Highest\",fontsize=25)\n",
    "plt.xticks(rotation=90)\n",
    "plt.show()\n",
    "salary_cpy.groupby(['JobTitle'])['Name'].count().sort_values(ascending=False).head(10)"
   ]
  },
  {
   "cell_type": "markdown",
   "id": "b651726a",
   "metadata": {},
   "source": [
    "- The above plot shows that more number of People are working as AIDE BLUE CHIP."
   ]
  },
  {
   "cell_type": "markdown",
   "id": "32ea72df",
   "metadata": {},
   "source": [
    "**Now let us see the Top 10 Highest Paying Jobs**"
   ]
  },
  {
   "cell_type": "code",
   "execution_count": 30,
   "id": "c3b9b414",
   "metadata": {},
   "outputs": [
    {
     "data": {
      "image/png": "[encoded data removed]",
      "text/plain": [
       "<Figure size 720x360 with 1 Axes>"
      ]
     },
     "metadata": {
      "needs_background": "light"
     },
     "output_type": "display_data"
    },
    {
     "data": {
      "text/plain": [
       "JobTitle\n",
       "FIRE COMMAND STAFF III        140885.000000\n",
       "EXECUTIVE LEVEL III           138400.000000\n",
       "FIRE COMMAND STAFF II         129587.000000\n",
       "WWW CHIEF OF ENGINEERING      127296.000000\n",
       "PUBLIC HEALTH PHYSICIAN II    125300.000000\n",
       "ADMINISTRATOR COURTS          120100.000000\n",
       "MASTER                        118706.833333\n",
       "POLICE COMMAND STAFF II       116514.571429\n",
       "EXECUTIVE LEVEL II            115892.346341\n",
       "DEPUTY CITY AUDITOR           115600.000000\n",
       "Name: AnnualSalary, dtype: float64"
      ]
     },
     "execution_count": 30,
     "metadata": {},
     "output_type": "execute_result"
    }
   ],
   "source": [
    "plt.figure(figsize=(10,5))\n",
    "salary_cpy.groupby(['JobTitle'])['AnnualSalary'].mean().sort_values(ascending=False).head(10).plot.bar()\n",
    "plt.ylabel('Avg Salary')\n",
    "plt.title(\"Top 10 Highest Paying Jobs\",fontsize=20)\n",
    "plt.show()\n",
    "salary_cpy.groupby(['JobTitle'])['AnnualSalary'].mean().sort_values(ascending=False).head(10)"
   ]
  },
  {
   "cell_type": "markdown",
   "id": "32c305e0",
   "metadata": {},
   "source": [
    "<b>Number of Jobs whose average pay is more than total average salary</b>"
   ]
  },
  {
   "cell_type": "code",
   "execution_count": 31,
   "id": "7f88a05e",
   "metadata": {},
   "outputs": [
    {
     "data": {
      "text/plain": [
       "798"
      ]
     },
     "execution_count": 31,
     "metadata": {},
     "output_type": "execute_result"
    }
   ],
   "source": [
    "mean_sal = salary_cpy.AnnualSalary.mean()\n",
    "good_pay_jobs = salary_cpy.groupby(['JobTitle'])['AnnualSalary'].mean().reset_index()\n",
    "good_pay_jobs[good_pay_jobs.AnnualSalary>mean_sal]['JobTitle'].count()"
   ]
  },
  {
   "cell_type": "markdown",
   "id": "5a82e05d",
   "metadata": {},
   "source": [
    "- Out of 1073 Jobs, 798 Jobs pay more than total average Salary"
   ]
  },
  {
   "cell_type": "markdown",
   "id": "0d38c653",
   "metadata": {},
   "source": [
    "<b>The top 10 Agencies and AgencyID with highest number of employees</b>"
   ]
  },
  {
   "cell_type": "code",
   "execution_count": 32,
   "id": "654c956b",
   "metadata": {},
   "outputs": [
    {
     "data": {
      "image/png": "[encoded data removed]",
      "text/plain": [
       "<Figure size 720x360 with 1 Axes>"
      ]
     },
     "metadata": {
      "needs_background": "light"
     },
     "output_type": "display_data"
    },
    {
     "data": {
      "text/plain": [
       "Agency\n",
       "YOUTH SUMMER                4817\n",
       "POLICE DEPARTMENT           3139\n",
       "FIRE DEPARTMENT             1575\n",
       "DPW-WATER & WASTE WATER     1491\n",
       "HLTH-HEALTH DEPARTMENT       833\n",
       "TRANS-HIGHWAYS               651\n",
       "R&P-RECREATION (PART-TI      507\n",
       "DPW-SOLID WASTE (WKLY)       475\n",
       "ENOCH PRATT FREE LIBRARY     463\n",
       "HOUSING & COMMUNITY DEV      446\n",
       "Name: Name, dtype: int64"
      ]
     },
     "execution_count": 32,
     "metadata": {},
     "output_type": "execute_result"
    }
   ],
   "source": [
    "plt.figure(figsize=(10,5))\n",
    "salary_cpy.groupby(['Agency'])['Name'].count().sort_values(ascending=False).head(10).plot.bar()\n",
    "plt.ylabel('No Of Employees')\n",
    "plt.title(\"Top Agencies with Highest number of Employees\",fontsize=18)\n",
    "plt.show()\n",
    "salary_cpy.groupby(['Agency'])['Name'].count().sort_values(ascending=False).head(10)"
   ]
  },
  {
   "cell_type": "markdown",
   "id": "e90e39b2",
   "metadata": {},
   "source": [
    "- The Youth Summer has maximum number of employees followed by Police Department"
   ]
  },
  {
   "cell_type": "markdown",
   "id": "b1aa431f",
   "metadata": {},
   "source": [
    "<b>Top 10 Jobs that has highest number of employees</b>"
   ]
  },
  {
   "cell_type": "code",
   "execution_count": 33,
   "id": "9d3bc9d2",
   "metadata": {},
   "outputs": [
    {
     "data": {
      "image/png": "[encoded data removed]",
      "text/plain": [
       "<Figure size 720x360 with 1 Axes>"
      ]
     },
     "metadata": {
      "needs_background": "light"
     },
     "output_type": "display_data"
    },
    {
     "data": {
      "text/plain": [
       "AgencyID\n",
       "P04001    316\n",
       "C90786    276\n",
       "W02629    193\n",
       "P04002    191\n",
       "A99416    166\n",
       "A50209    125\n",
       "A85301    120\n",
       "A38001    114\n",
       "W02574    104\n",
       "W02461    104\n",
       "Name: Name, dtype: int64"
      ]
     },
     "execution_count": 33,
     "metadata": {},
     "output_type": "execute_result"
    }
   ],
   "source": [
    "plt.figure(figsize=(10,5))\n",
    "salary_cpy.groupby(['AgencyID'])['Name'].count().sort_values(ascending=False).head(10).plot.bar()\n",
    "plt.ylabel('No Of Employees')\n",
    "plt.title(\"Top AgencyID's with Highest number of Employees\",fontsize=18)\n",
    "plt.show()\n",
    "salary_cpy.groupby(['AgencyID'])['Name'].count().sort_values(ascending=False).head(10)"
   ]
  },
  {
   "cell_type": "markdown",
   "id": "0415104e",
   "metadata": {},
   "source": [
    "- The P04001 has maximum number of employee.s followed by C90786."
   ]
  },
  {
   "cell_type": "markdown",
   "id": "37c99274",
   "metadata": {},
   "source": [
    "<b>Salary relation with Hire Year</b>"
   ]
  },
  {
   "cell_type": "code",
   "execution_count": 34,
   "id": "1df26644",
   "metadata": {},
   "outputs": [
    {
     "data": {
      "image/png": "[encoded data removed]",
      "text/plain": [
       "<Figure size 720x360 with 1 Axes>"
      ]
     },
     "metadata": {
      "needs_background": "light"
     },
     "output_type": "display_data"
    },
    {
     "data": {
      "text/plain": [
       "HireYear\n",
       "2014    16493.347246\n",
       "2013    23647.479241\n",
       "2012    25972.636315\n",
       "2011    31249.601869\n",
       "2010    33536.680992\n",
       "2009    37046.892919\n",
       "1962    38195.000000\n",
       "1967    42275.833333\n",
       "2007    42291.821762\n",
       "2008    42609.917668\n",
       "Name: AnnualSalary, dtype: float64"
      ]
     },
     "execution_count": 34,
     "metadata": {},
     "output_type": "execute_result"
    }
   ],
   "source": [
    "plt.figure(figsize=(10,5))\n",
    "salary_cpy.groupby(['HireYear'])['AnnualSalary'].mean().sort_values().head(10).plot.bar()\n",
    "plt.ylabel(' AverageSalary')\n",
    "plt.title(\"Average Salary of Employees based on Hire Year\",fontsize=18)\n",
    "plt.show()\n",
    "salary_cpy.groupby(['HireYear'])['AnnualSalary'].mean().sort_values().head(10)"
   ]
  },
  {
   "cell_type": "markdown",
   "id": "70591f1d",
   "metadata": {},
   "source": [
    "- It suggests that the Salary of the employees increases with experience in the company."
   ]
  },
  {
   "cell_type": "markdown",
   "id": "e2006a68",
   "metadata": {},
   "source": [
    "<b>Checking if Hiring Month has any such effect.</b>"
   ]
  },
  {
   "cell_type": "code",
   "execution_count": 35,
   "id": "ff8b9be7",
   "metadata": {},
   "outputs": [
    {
     "data": {
      "image/png": "[encoded data removed]",
      "text/plain": [
       "<Figure size 720x360 with 1 Axes>"
      ]
     },
     "metadata": {
      "needs_background": "light"
     },
     "output_type": "display_data"
    },
    {
     "data": {
      "text/plain": [
       "HireMonth\n",
       "1     50625.991041\n",
       "2     51862.053571\n",
       "3     51109.773063\n",
       "4     48674.680848\n",
       "5     24679.977200\n",
       "6     21485.964210\n",
       "7     47199.461303\n",
       "8     52472.517027\n",
       "9     49460.529011\n",
       "10    49900.300966\n",
       "11    52098.092267\n",
       "12    50441.871037\n",
       "Name: AnnualSalary, dtype: float64"
      ]
     },
     "execution_count": 35,
     "metadata": {},
     "output_type": "execute_result"
    }
   ],
   "source": [
    "plt.figure(figsize=(10,5))\n",
    "salary_cpy.groupby(['HireMonth'])['AnnualSalary'].mean().plot.bar()\n",
    "plt.ylabel('Average Salary')\n",
    "plt.title(\"Average Salary of Employees based on Hire Month\",fontsize=18)\n",
    "plt.xticks(rotation=0)\n",
    "plt.show()\n",
    "salary_cpy.groupby(['HireMonth'])['AnnualSalary'].mean()"
   ]
  },
  {
   "cell_type": "markdown",
   "id": "c87465e8",
   "metadata": {},
   "source": [
    "<b>Now I am Checking in which Month most people are hired.</b>"
   ]
  },
  {
   "cell_type": "code",
   "execution_count": 36,
   "id": "e84b6627",
   "metadata": {},
   "outputs": [
    {
     "data": {
      "image/png": "[encoded data removed]",
      "text/plain": [
       "<Figure size 720x360 with 1 Axes>"
      ]
     },
     "metadata": {
      "needs_background": "light"
     },
     "output_type": "display_data"
    }
   ],
   "source": [
    "plt.figure(figsize=(10,5))\n",
    "salary_cpy.groupby(['HireMonth'])['Name'].count().plot.bar()\n",
    "plt.ylabel('Numer of Hired')\n",
    "plt.title(\"Employers Hirings based on Hire Month\",fontsize=20)\n",
    "plt.xticks(rotation=0)\n",
    "plt.show()"
   ]
  },
  {
   "cell_type": "markdown",
   "id": "dd28919b",
   "metadata": {},
   "source": [
    "- More members are being hired in months of May and June but they have relatively lower average salaries."
   ]
  },
  {
   "cell_type": "code",
   "execution_count": 37,
   "id": "a0aec12d",
   "metadata": {},
   "outputs": [
    {
     "data": {
      "text/plain": [
       "<AxesSubplot:>"
      ]
     },
     "execution_count": 37,
     "metadata": {},
     "output_type": "execute_result"
    },
    {
     "data": {
      "image/png": "[encoded data removed]",
      "text/plain": [
       "<Figure size 1080x504 with 2 Axes>"
      ]
     },
     "metadata": {
      "needs_background": "light"
     },
     "output_type": "display_data"
    }
   ],
   "source": [
    "plt.figure(figsize=(15,7))\n",
    "sns.heatmap(salary_cpy.corr(),annot=True)"
   ]
  },
  {
   "cell_type": "markdown",
   "id": "f37d551e",
   "metadata": {},
   "source": [
    "- Except for HireYear nothing seems to have significant correlation with Annual Salary."
   ]
  },
  {
   "cell_type": "markdown",
   "id": "8c9932f3",
   "metadata": {},
   "source": [
    "### Feature Engineering"
   ]
  },
  {
   "cell_type": "code",
   "execution_count": 38,
   "id": "ffb5ccc2",
   "metadata": {},
   "outputs": [],
   "source": [
    "salary_master = salary_cpy.copy()"
   ]
  },
  {
   "cell_type": "code",
   "execution_count": 39,
   "id": "d7bda30d",
   "metadata": {},
   "outputs": [
    {
     "name": "stdout",
     "output_type": "stream",
     "text": [
      "0        11313.967200\n",
      "1        47443.500000\n",
      "2        69750.666667\n",
      "3        57940.000000\n",
      "4        44531.160494\n",
      "             ...     \n",
      "18976    11313.967200\n",
      "18977    11313.967200\n",
      "18978    44531.160494\n",
      "18979    60588.139335\n",
      "18980    53368.428571\n",
      "Name: JobTitle, Length: 18895, dtype: float64\n"
     ]
    }
   ],
   "source": [
    "mean_Job = salary_master.groupby('JobTitle')['AnnualSalary'].mean()\n",
    "salary_master['JobTitle'] = salary_master['JobTitle'].map(mean_Job)\n",
    "print(salary_master['JobTitle'])"
   ]
  },
  {
   "cell_type": "code",
   "execution_count": 40,
   "id": "16fce1aa",
   "metadata": {},
   "outputs": [
    {
     "name": "stdout",
     "output_type": "stream",
     "text": [
      "0        11313.967200\n",
      "1        51495.424242\n",
      "2        64874.560224\n",
      "3        39980.900360\n",
      "4        61506.879579\n",
      "             ...     \n",
      "18976    11313.967200\n",
      "18977    11313.967200\n",
      "18978    61506.879579\n",
      "18979    61506.879579\n",
      "18980    42565.513078\n",
      "Name: Agency, Length: 18895, dtype: float64\n"
     ]
    }
   ],
   "source": [
    "mean_agency = salary_master.groupby('Agency')['AnnualSalary'].mean()\n",
    "salary_master['Agency'] = salary_master['Agency'].map(mean_agency)\n",
    "print(salary_master['Agency'])"
   ]
  },
  {
   "cell_type": "code",
   "execution_count": 41,
   "id": "acc1bbb3",
   "metadata": {},
   "outputs": [
    {
     "name": "stdout",
     "output_type": "stream",
     "text": [
      "0        11310.000000\n",
      "1        46667.000000\n",
      "2        65926.133333\n",
      "3        48071.851064\n",
      "4        44012.307229\n",
      "             ...     \n",
      "18976    11310.000000\n",
      "18977    11310.000000\n",
      "18978    44012.307229\n",
      "18979    60203.340426\n",
      "18980    42407.562500\n",
      "Name: AgencyID, Length: 18895, dtype: float64\n"
     ]
    }
   ],
   "source": [
    "mean_agencyID = salary_master.groupby('AgencyID')['AnnualSalary'].mean()\n",
    "salary_master['AgencyID'] = salary_master['AgencyID'].map(mean_agencyID)\n",
    "print(salary_master['AgencyID'])"
   ]
  },
  {
   "cell_type": "code",
   "execution_count": 42,
   "id": "db1a88c6",
   "metadata": {},
   "outputs": [
    {
     "name": "stdout",
     "output_type": "stream",
     "text": [
      "<class 'pandas.core.frame.DataFrame'>\n",
      "Int64Index: 18895 entries, 0 to 18980\n",
      "Data columns (total 9 columns):\n",
      " #   Column        Non-Null Count  Dtype  \n",
      "---  ------        --------------  -----  \n",
      " 0   Name          18895 non-null  object \n",
      " 1   JobTitle      18895 non-null  float64\n",
      " 2   AgencyID      18895 non-null  float64\n",
      " 3   Agency        18895 non-null  float64\n",
      " 4   HireDate      18895 non-null  object \n",
      " 5   AnnualSalary  18895 non-null  float64\n",
      " 6   HireDay       18895 non-null  int64  \n",
      " 7   HireMonth     18895 non-null  int64  \n",
      " 8   HireYear      18895 non-null  int64  \n",
      "dtypes: float64(4), int64(3), object(2)\n",
      "memory usage: 1.4+ MB\n"
     ]
    }
   ],
   "source": [
    "salary_master.info()"
   ]
  },
  {
   "cell_type": "markdown",
   "id": "50b87f26",
   "metadata": {},
   "source": [
    "- Since HireYear, HireMonth and HireDay is there , Date field is no longer required.\n",
    "- Annual Income is never based on Name, so it is safe to remove both those columns."
   ]
  },
  {
   "cell_type": "code",
   "execution_count": 43,
   "id": "c3b0713c",
   "metadata": {},
   "outputs": [
    {
     "name": "stdout",
     "output_type": "stream",
     "text": [
      "<class 'pandas.core.frame.DataFrame'>\n",
      "Int64Index: 18895 entries, 0 to 18980\n",
      "Data columns (total 7 columns):\n",
      " #   Column        Non-Null Count  Dtype  \n",
      "---  ------        --------------  -----  \n",
      " 0   JobTitle      18895 non-null  float64\n",
      " 1   AgencyID      18895 non-null  float64\n",
      " 2   Agency        18895 non-null  float64\n",
      " 3   AnnualSalary  18895 non-null  float64\n",
      " 4   HireDay       18895 non-null  int64  \n",
      " 5   HireMonth     18895 non-null  int64  \n",
      " 6   HireYear      18895 non-null  int64  \n",
      "dtypes: float64(4), int64(3)\n",
      "memory usage: 1.2 MB\n"
     ]
    }
   ],
   "source": [
    "salary_master = salary_master.drop(['HireDate','Name'],axis=1)\n",
    "salary_master.info()"
   ]
  },
  {
   "cell_type": "markdown",
   "id": "8383a4d4",
   "metadata": {},
   "source": [
    "### Train Test Split"
   ]
  },
  {
   "cell_type": "code",
   "execution_count": 44,
   "id": "c99018ab",
   "metadata": {},
   "outputs": [],
   "source": [
    "salary_train, salary_test = train_test_split(salary_master,train_size=0.7, random_state=42)"
   ]
  },
  {
   "cell_type": "code",
   "execution_count": 45,
   "id": "f40a37a7",
   "metadata": {},
   "outputs": [
    {
     "name": "stdout",
     "output_type": "stream",
     "text": [
      "(13226, 7)\n",
      "(5669, 7)\n"
     ]
    }
   ],
   "source": [
    "print(salary_train.shape)\n",
    "print(salary_test.shape)"
   ]
  },
  {
   "cell_type": "markdown",
   "id": "d7911350",
   "metadata": {},
   "source": [
    "#### Divide test set into Dependent and independent variables"
   ]
  },
  {
   "cell_type": "code",
   "execution_count": 46,
   "id": "2af79655",
   "metadata": {},
   "outputs": [],
   "source": [
    "y_train = salary_train.pop('AnnualSalary')\n",
    "X_train = salary_train\n",
    "y_test = salary_test.pop('AnnualSalary')\n",
    "X_test = salary_test"
   ]
  },
  {
   "cell_type": "markdown",
   "id": "a34c004f",
   "metadata": {},
   "source": [
    "### Scaling\n",
    ">Standardizing independent features in a fixed range."
   ]
  },
  {
   "cell_type": "code",
   "execution_count": 47,
   "id": "c962a9b6",
   "metadata": {},
   "outputs": [
    {
     "data": {
      "text/html": [
       "<div>\n",
       "<style scoped>\n",
       "    .dataframe tbody tr th:only-of-type {\n",
       "        vertical-align: middle;\n",
       "    }\n",
       "\n",
       "    .dataframe tbody tr th {\n",
       "        vertical-align: top;\n",
       "    }\n",
       "\n",
       "    .dataframe thead th {\n",
       "        text-align: right;\n",
       "    }\n",
       "</style>\n",
       "<table border=\"1\" class=\"dataframe\">\n",
       "  <thead>\n",
       "    <tr style=\"text-align: right;\">\n",
       "      <th></th>\n",
       "      <th>JobTitle</th>\n",
       "      <th>AgencyID</th>\n",
       "      <th>Agency</th>\n",
       "      <th>HireDay</th>\n",
       "      <th>HireMonth</th>\n",
       "      <th>HireYear</th>\n",
       "    </tr>\n",
       "  </thead>\n",
       "  <tbody>\n",
       "    <tr>\n",
       "      <th>count</th>\n",
       "      <td>1.322600e+04</td>\n",
       "      <td>1.322600e+04</td>\n",
       "      <td>1.322600e+04</td>\n",
       "      <td>1.322600e+04</td>\n",
       "      <td>1.322600e+04</td>\n",
       "      <td>1.322600e+04</td>\n",
       "    </tr>\n",
       "    <tr>\n",
       "      <th>mean</th>\n",
       "      <td>3.410750e-16</td>\n",
       "      <td>-2.445580e-16</td>\n",
       "      <td>-3.068769e-16</td>\n",
       "      <td>-1.107999e-16</td>\n",
       "      <td>-4.932039e-17</td>\n",
       "      <td>1.091302e-14</td>\n",
       "    </tr>\n",
       "    <tr>\n",
       "      <th>std</th>\n",
       "      <td>1.000038e+00</td>\n",
       "      <td>1.000038e+00</td>\n",
       "      <td>1.000038e+00</td>\n",
       "      <td>1.000038e+00</td>\n",
       "      <td>1.000038e+00</td>\n",
       "      <td>1.000038e+00</td>\n",
       "    </tr>\n",
       "    <tr>\n",
       "      <th>min</th>\n",
       "      <td>-1.539463e+00</td>\n",
       "      <td>-1.685751e+00</td>\n",
       "      <td>-1.397984e+00</td>\n",
       "      <td>-1.766448e+00</td>\n",
       "      <td>-1.833646e+00</td>\n",
       "      <td>-5.029261e+00</td>\n",
       "    </tr>\n",
       "    <tr>\n",
       "      <th>25%</th>\n",
       "      <td>-1.158100e+00</td>\n",
       "      <td>-1.267888e+00</td>\n",
       "      <td>-1.346520e+00</td>\n",
       "      <td>-8.105477e-01</td>\n",
       "      <td>-4.721605e-01</td>\n",
       "      <td>-5.883256e-01</td>\n",
       "    </tr>\n",
       "    <tr>\n",
       "      <th>50%</th>\n",
       "      <td>-1.476380e-01</td>\n",
       "      <td>8.407664e-02</td>\n",
       "      <td>1.434622e-01</td>\n",
       "      <td>2.586518e-02</td>\n",
       "      <td>-1.317891e-01</td>\n",
       "      <td>2.805530e-01</td>\n",
       "    </tr>\n",
       "    <tr>\n",
       "      <th>75%</th>\n",
       "      <td>8.594492e-01</td>\n",
       "      <td>9.050343e-01</td>\n",
       "      <td>1.046531e+00</td>\n",
       "      <td>7.427905e-01</td>\n",
       "      <td>8.893253e-01</td>\n",
       "      <td>8.598055e-01</td>\n",
       "    </tr>\n",
       "    <tr>\n",
       "      <th>max</th>\n",
       "      <td>4.147233e+00</td>\n",
       "      <td>4.629334e+00</td>\n",
       "      <td>2.237763e+00</td>\n",
       "      <td>1.818178e+00</td>\n",
       "      <td>1.910440e+00</td>\n",
       "      <td>9.563475e-01</td>\n",
       "    </tr>\n",
       "  </tbody>\n",
       "</table>\n",
       "</div>"
      ],
      "text/plain": [
       "           JobTitle      AgencyID        Agency       HireDay     HireMonth  \\\n",
       "count  1.322600e+04  1.322600e+04  1.322600e+04  1.322600e+04  1.322600e+04   \n",
       "mean   3.410750e-16 -2.445580e-16 -3.068769e-16 -1.107999e-16 -4.932039e-17   \n",
       "std    1.000038e+00  1.000038e+00  1.000038e+00  1.000038e+00  1.000038e+00   \n",
       "min   -1.539463e+00 -1.685751e+00 -1.397984e+00 -1.766448e+00 -1.833646e+00   \n",
       "25%   -1.158100e+00 -1.267888e+00 -1.346520e+00 -8.105477e-01 -4.721605e-01   \n",
       "50%   -1.476380e-01  8.407664e-02  1.434622e-01  2.586518e-02 -1.317891e-01   \n",
       "75%    8.594492e-01  9.050343e-01  1.046531e+00  7.427905e-01  8.893253e-01   \n",
       "max    4.147233e+00  4.629334e+00  2.237763e+00  1.818178e+00  1.910440e+00   \n",
       "\n",
       "           HireYear  \n",
       "count  1.322600e+04  \n",
       "mean   1.091302e-14  \n",
       "std    1.000038e+00  \n",
       "min   -5.029261e+00  \n",
       "25%   -5.883256e-01  \n",
       "50%    2.805530e-01  \n",
       "75%    8.598055e-01  \n",
       "max    9.563475e-01  "
      ]
     },
     "execution_count": 47,
     "metadata": {},
     "output_type": "execute_result"
    }
   ],
   "source": [
    "scaler = StandardScaler()\n",
    "X_train[X_train.columns] = scaler.fit_transform(X_train[X_train.columns])\n",
    "X_train.describe()"
   ]
  },
  {
   "cell_type": "code",
   "execution_count": 48,
   "id": "85b7c7eb",
   "metadata": {},
   "outputs": [
    {
     "data": {
      "text/html": [
       "<div>\n",
       "<style scoped>\n",
       "    .dataframe tbody tr th:only-of-type {\n",
       "        vertical-align: middle;\n",
       "    }\n",
       "\n",
       "    .dataframe tbody tr th {\n",
       "        vertical-align: top;\n",
       "    }\n",
       "\n",
       "    .dataframe thead th {\n",
       "        text-align: right;\n",
       "    }\n",
       "</style>\n",
       "<table border=\"1\" class=\"dataframe\">\n",
       "  <thead>\n",
       "    <tr style=\"text-align: right;\">\n",
       "      <th></th>\n",
       "      <th>JobTitle</th>\n",
       "      <th>AgencyID</th>\n",
       "      <th>Agency</th>\n",
       "      <th>HireDay</th>\n",
       "      <th>HireMonth</th>\n",
       "      <th>HireYear</th>\n",
       "    </tr>\n",
       "  </thead>\n",
       "  <tbody>\n",
       "    <tr>\n",
       "      <th>count</th>\n",
       "      <td>5669.000000</td>\n",
       "      <td>5669.000000</td>\n",
       "      <td>5669.000000</td>\n",
       "      <td>5669.000000</td>\n",
       "      <td>5669.000000</td>\n",
       "      <td>5669.000000</td>\n",
       "    </tr>\n",
       "    <tr>\n",
       "      <th>mean</th>\n",
       "      <td>-0.006849</td>\n",
       "      <td>-0.001602</td>\n",
       "      <td>-0.001378</td>\n",
       "      <td>-0.007458</td>\n",
       "      <td>-0.019873</td>\n",
       "      <td>-0.005037</td>\n",
       "    </tr>\n",
       "    <tr>\n",
       "      <th>std</th>\n",
       "      <td>0.987928</td>\n",
       "      <td>0.997438</td>\n",
       "      <td>1.003394</td>\n",
       "      <td>1.006810</td>\n",
       "      <td>1.011997</td>\n",
       "      <td>1.010818</td>\n",
       "    </tr>\n",
       "    <tr>\n",
       "      <th>min</th>\n",
       "      <td>-1.539463</td>\n",
       "      <td>-1.685751</td>\n",
       "      <td>-1.397984</td>\n",
       "      <td>-1.766448</td>\n",
       "      <td>-1.833646</td>\n",
       "      <td>-4.160382</td>\n",
       "    </tr>\n",
       "    <tr>\n",
       "      <th>25%</th>\n",
       "      <td>-1.158100</td>\n",
       "      <td>-1.267888</td>\n",
       "      <td>-1.346520</td>\n",
       "      <td>-0.810548</td>\n",
       "      <td>-0.472161</td>\n",
       "      <td>-0.588326</td>\n",
       "    </tr>\n",
       "    <tr>\n",
       "      <th>50%</th>\n",
       "      <td>-0.143918</td>\n",
       "      <td>0.097496</td>\n",
       "      <td>0.143462</td>\n",
       "      <td>0.025865</td>\n",
       "      <td>-0.131789</td>\n",
       "      <td>0.280553</td>\n",
       "    </tr>\n",
       "    <tr>\n",
       "      <th>75%</th>\n",
       "      <td>0.859449</td>\n",
       "      <td>0.889358</td>\n",
       "      <td>1.046531</td>\n",
       "      <td>0.742790</td>\n",
       "      <td>0.548954</td>\n",
       "      <td>0.859805</td>\n",
       "    </tr>\n",
       "    <tr>\n",
       "      <th>max</th>\n",
       "      <td>4.045484</td>\n",
       "      <td>3.121863</td>\n",
       "      <td>2.237763</td>\n",
       "      <td>1.818178</td>\n",
       "      <td>1.910440</td>\n",
       "      <td>0.956348</td>\n",
       "    </tr>\n",
       "  </tbody>\n",
       "</table>\n",
       "</div>"
      ],
      "text/plain": [
       "          JobTitle     AgencyID       Agency      HireDay    HireMonth  \\\n",
       "count  5669.000000  5669.000000  5669.000000  5669.000000  5669.000000   \n",
       "mean     -0.006849    -0.001602    -0.001378    -0.007458    -0.019873   \n",
       "std       0.987928     0.997438     1.003394     1.006810     1.011997   \n",
       "min      -1.539463    -1.685751    -1.397984    -1.766448    -1.833646   \n",
       "25%      -1.158100    -1.267888    -1.346520    -0.810548    -0.472161   \n",
       "50%      -0.143918     0.097496     0.143462     0.025865    -0.131789   \n",
       "75%       0.859449     0.889358     1.046531     0.742790     0.548954   \n",
       "max       4.045484     3.121863     2.237763     1.818178     1.910440   \n",
       "\n",
       "          HireYear  \n",
       "count  5669.000000  \n",
       "mean     -0.005037  \n",
       "std       1.010818  \n",
       "min      -4.160382  \n",
       "25%      -0.588326  \n",
       "50%       0.280553  \n",
       "75%       0.859805  \n",
       "max       0.956348  "
      ]
     },
     "execution_count": 48,
     "metadata": {},
     "output_type": "execute_result"
    }
   ],
   "source": [
    "X_test[X_test.columns] = scaler.transform(X_test[X_test.columns])\n",
    "X_test.describe()"
   ]
  },
  {
   "cell_type": "markdown",
   "id": "5d2b19e6",
   "metadata": {},
   "source": [
    "### Model Building"
   ]
  },
  {
   "cell_type": "code",
   "execution_count": 50,
   "id": "2534074d",
   "metadata": {},
   "outputs": [],
   "source": [
    "lr = LinearRegression()\n",
    "salary_reg = lr.fit(X_train,y_train)"
   ]
  },
  {
   "cell_type": "code",
   "execution_count": 51,
   "id": "ff5b231d",
   "metadata": {},
   "outputs": [
    {
     "data": {
      "text/plain": [
       "0.964833881870778"
      ]
     },
     "execution_count": 51,
     "metadata": {},
     "output_type": "execute_result"
    }
   ],
   "source": [
    "salary_reg.score(X_train,y_train)"
   ]
  },
  {
   "cell_type": "markdown",
   "id": "92c90ca7",
   "metadata": {},
   "source": [
    "<b> Here I can see that I got a very high value for R-squared , which means the independent variables are able to expalin almost 96% of variance in the dependent variable. </b>"
   ]
  },
  {
   "cell_type": "markdown",
   "id": "019068d5",
   "metadata": {},
   "source": [
    "### Model Evaluation"
   ]
  },
  {
   "cell_type": "code",
   "execution_count": 52,
   "id": "be62d410",
   "metadata": {},
   "outputs": [
    {
     "data": {
      "text/plain": [
       "0.9634621082754347"
      ]
     },
     "execution_count": 52,
     "metadata": {},
     "output_type": "execute_result"
    }
   ],
   "source": [
    "salary_reg.score(X_test,y_test)"
   ]
  },
  {
   "cell_type": "markdown",
   "id": "38e08d1e",
   "metadata": {},
   "source": [
    "<b> The model performs well on the test data as well giving an R-squared of 0.963. This model can be used for predicting the Salaries of Employees in Baltimore. </b>"
   ]
  },
  {
   "cell_type": "markdown",
   "id": "1304f9b1",
   "metadata": {},
   "source": [
    "### Plotting distribution plot to check whether Residuals satisfy assumptions of Linear Regression"
   ]
  },
  {
   "cell_type": "code",
   "execution_count": 53,
   "id": "46fda44b",
   "metadata": {},
   "outputs": [
    {
     "data": {
      "image/png": "[encoded data removed]",
      "text/plain": [
       "<Figure size 1080x360 with 1 Axes>"
      ]
     },
     "metadata": {
      "needs_background": "light"
     },
     "output_type": "display_data"
    }
   ],
   "source": [
    "plt.figure(figsize=(15,5))\n",
    "y_train_pred = salary_reg.predict(X_train)\n",
    "res = y_train - y_train_pred\n",
    "sns.distplot(res)\n",
    "plt.xlabel('Residuals')\n",
    "plt.title(\"Residual Analysis\",fontsize=20)\n",
    "plt.show()"
   ]
  },
  {
   "cell_type": "code",
   "execution_count": 54,
   "id": "bafe1ef4",
   "metadata": {},
   "outputs": [
    {
     "data": {
      "image/png": "[encoded data removed]",
      "text/plain": [
       "<Figure size 432x288 with 1 Axes>"
      ]
     },
     "metadata": {
      "needs_background": "light"
     },
     "output_type": "display_data"
    }
   ],
   "source": [
    "sns.scatterplot(x=res,y=y_train_pred)\n",
    "plt.xlabel('Residuals')\n",
    "plt.title(\"Residual Analysis\",fontsize=20)\n",
    "plt.show()"
   ]
  },
  {
   "cell_type": "markdown",
   "id": "b8050767",
   "metadata": {},
   "source": [
    "### Checking the coefficients and intercept "
   ]
  },
  {
   "cell_type": "code",
   "execution_count": 55,
   "id": "bcb15b13",
   "metadata": {},
   "outputs": [
    {
     "name": "stdout",
     "output_type": "stream",
     "text": [
      "Coef are: [22395.65357851  2798.67752824 -1694.55993659   -22.59156434\n",
      "   -62.65873076 -2049.21601256]\n",
      "Intercept is 39628.221303493134\n"
     ]
    }
   ],
   "source": [
    "print(\"Coef are:\",salary_reg.coef_)\n",
    "print(\"Intercept is\",salary_reg.intercept_)"
   ]
  },
  {
   "cell_type": "markdown",
   "id": "03fe6c6d",
   "metadata": {},
   "source": [
    "### Model Equation"
   ]
  },
  {
   "cell_type": "code",
   "execution_count": 56,
   "id": "bf7093e4",
   "metadata": {},
   "outputs": [
    {
     "name": "stdout",
     "output_type": "stream",
     "text": [
      "Predicted Salary = 39628.221303493134 + 22395.653578510748 * JobTitle + 2798.6775282355807 * AgencyID + -1694.559936588217 * Agency + -22.591564342893353 * HireDay + -62.658730755574844 * HireMonth + -2049.2160125577852 * HireYear\n"
     ]
    }
   ],
   "source": [
    "model = str(salary_reg.intercept_)\n",
    "\n",
    "for i in range(len(salary_reg.coef_)):\n",
    "    model = model +' + '  +(str(salary_reg.coef_[i])) + ' * ' +(str(X_train.columns[i]))\n",
    "print('Predicted Salary' + ' = ' + model)"
   ]
  },
  {
   "cell_type": "markdown",
   "id": "347847fc",
   "metadata": {},
   "source": [
    "<font color='Red' face='Cursive'><b>Predicted Salary </font> = <font color='Purple' face='comic sans ms'> <b>39628.221303493134 </b>+ 22395.653578510748 * <b>JobTitle</b> + 2798.6775282355807 * <b>AgencyID</b> + -1694.559936588217 * <b>Agency</b> + -22.591564342893353 * <b>HireDay</b> -62.658730755574844 * <b>HireMonth</b> + -2049.2160125577852 * <b>HireYear</b> </font>"
   ]
  }
 ],
 "metadata": {
  "kernelspec": {
   "display_name": "Python 3",
   "language": "python",
   "name": "python3"
  },
  "language_info": {
   "codemirror_mode": {
    "name": "ipython",
    "version": 3
   },
   "file_extension": ".py",
   "mimetype": "text/x-python",
   "name": "python",
   "nbconvert_exporter": "python",
   "pygments_lexer": "ipython3",
   "version": "3.8.8"
  }
 },
 "nbformat": 4,
 "nbformat_minor": 5
}
